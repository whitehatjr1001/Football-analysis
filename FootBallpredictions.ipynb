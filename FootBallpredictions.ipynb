{
  "nbformat": 4,
  "nbformat_minor": 0,
  "metadata": {
    "colab": {
      "provenance": [],
      "authorship_tag": "ABX9TyPAv9JBnTQFa+iZbMRNuBVr",
      "include_colab_link": true
    },
    "kernelspec": {
      "name": "python3",
      "display_name": "Python 3"
    },
    "language_info": {
      "name": "python"
    }
  },
  "cells": [
    {
      "cell_type": "markdown",
      "metadata": {
        "id": "view-in-github",
        "colab_type": "text"
      },
      "source": [
        "<a href=\"https://colab.research.google.com/github/whitehatjr1001/Football-analysis/blob/main/FootBallpredictions.ipynb\" target=\"_parent\"><img src=\"https://colab.research.google.com/assets/colab-badge.svg\" alt=\"Open In Colab\"/></a>"
      ]
    },
    {
      "cell_type": "code",
      "source": [
        "from bs4 import BeautifulSoup\n",
        "import pandas as pd\n",
        "import numpy as np \n",
        "import requests\n",
        "import warnings \n",
        "from sklearn.model_selection import train_test_split \n",
        "from sklearn import metrics \n",
        "from sklearn.ensemble import RandomForestClassifier\n",
        "from tabulate import tabulate\n",
        "from sklearn.model_selection import GridSearchCV"
      ],
      "metadata": {
        "id": "sEx-3v6sEFFz"
      },
      "execution_count": 50,
      "outputs": []
    },
    {
      "cell_type": "code",
      "source": [
        "warnings.filterwarnings('ignore')\n",
        "url = \"https://www.betexplorer.com/soccer/england/premier-league/results/\"\n",
        "soup = BeautifulSoup(requests.get(url).content,\"html.parser\")"
      ],
      "metadata": {
        "id": "iWuHXsKaFI4x"
      },
      "execution_count": 26,
      "outputs": []
    },
    {
      "cell_type": "code",
      "source": [
        "def get_odd_or_text(td):\n",
        "    if \"data-odd\" in td.attrs:\n",
        "        return td[\"data-odd\"]\n",
        "\n",
        "    odd = td.select_one(\"[data-odd]\")\n",
        "    if odd:\n",
        "        return odd[\"data-odd\"]\n",
        "\n",
        "    return td.get_text(strip=True)\n"
      ],
      "metadata": {
        "id": "T2E8zyCxFvC-"
      },
      "execution_count": 27,
      "outputs": []
    },
    {
      "cell_type": "code",
      "source": [
        "all_data = []\n",
        "for row in soup.select(\".table-main tr:has(td)\"):\n",
        "    tds = [get_odd_or_text(td) for td in row.select(\"td\")]\n",
        "    round_ = row.find_previous(\"th\").find_previous(\"tr\").th.text\n",
        "    all_data.append([round_, *tds])\n",
        "\n",
        "df = pd.DataFrame(\n",
        "    all_data, columns=[\"Round\", \"Match\", \"Score\", \"1\", \"X\", \"2\", \"Date\"])\n",
        "\n",
        "\n",
        "df['Home'] = [i.split('-')[0] for i in df['Match']]\n",
        "df['Away'] = [i.split('-')[1] for i in df['Match']]"
      ],
      "metadata": {
        "id": "qM06RhRMGtQS"
      },
      "execution_count": 28,
      "outputs": []
    },
    {
      "cell_type": "code",
      "source": [
        "df.shape"
      ],
      "metadata": {
        "colab": {
          "base_uri": "https://localhost:8080/"
        },
        "id": "Ah3QmMetG6et",
        "outputId": "28325b4c-53d3-42d5-ce9e-46e57fea8757"
      },
      "execution_count": null,
      "outputs": [
        {
          "output_type": "execute_result",
          "data": {
            "text/plain": [
              "(281, 9)"
            ]
          },
          "metadata": {},
          "execution_count": 5
        }
      ]
    },
    {
      "cell_type": "code",
      "source": [
        "#reverse df\n",
        "df = df.iloc[::-1]\n",
        "\n",
        "\n",
        "cols = ['1','X','2']\n",
        "\n",
        "df[cols] = df[cols].apply(pd.to_numeric, errors='coerce')\n",
        "df['HomeWin_Prob'] = round(1/df['1'],2)\n",
        "df['DrawWin_Prob'] = round(1/df['X'],2)\n",
        "df['AwayWin_Prob'] = round(1/df['2'],2)\n",
        "\n",
        "df['HomeGoals'] = [i.split(':', 1)[0] for i in df['Score']]\n",
        "\n"
      ],
      "metadata": {
        "id": "m0SxRR5tGz4w"
      },
      "execution_count": 29,
      "outputs": []
    },
    {
      "cell_type": "code",
      "source": [
        "df['AwayGoals'] = [i.split(':', 1)[1] if (':' in i and len(i.split(':', 1)) > 1) else '' for i in df['Score']]"
      ],
      "metadata": {
        "id": "LiqSydu0HQ1t"
      },
      "execution_count": 30,
      "outputs": []
    },
    {
      "cell_type": "code",
      "source": [
        "\n",
        "\n",
        "cols = ['1','X','2']\n",
        "df[cols] = df[cols].apply(pd.to_numeric, errors='coerce')\n",
        "df['HomeWin_Prob'] = round(1/df['1'],2)\n",
        "df['DrawWin_Prob'] = round(1/df['X'],2)\n",
        "df['AwayWin_Prob'] = round(1/df['2'],2)\n",
        "\n",
        "df['HomeGoals'] = [i.split(':', 1)[0] for i in df['Score']]\n",
        "df['AwayGoals'] = [i.split(':', 1)[1] if (':' in i and len(i.split(':', 1)) > 1) else '' for i in df['Score']]"
      ],
      "metadata": {
        "id": "bQIcjLngHuP_"
      },
      "execution_count": 31,
      "outputs": []
    },
    {
      "cell_type": "code",
      "source": [
        "def result(df):\n",
        "  if df['HomeGoals']>df['AwayGoals']:\n",
        "    return 1\n",
        "  if df['HomeGoals']==df['AwayGoals']:\n",
        "    return 0\n",
        "  if df['HomeGoals']<df['AwayGoals']:\n",
        "    return 2\n",
        "  \n",
        "\n",
        "\n",
        "\n"
      ],
      "metadata": {
        "id": "_jqnl3bjXg6o"
      },
      "execution_count": 32,
      "outputs": []
    },
    {
      "cell_type": "code",
      "source": [
        "df['Result'] = df.apply(result,axis=1)"
      ],
      "metadata": {
        "id": "Y1wn9MbhYMlp"
      },
      "execution_count": 33,
      "outputs": []
    },
    {
      "cell_type": "code",
      "source": [
        "df"
      ],
      "metadata": {
        "colab": {
          "base_uri": "https://localhost:8080/",
          "height": 423
        },
        "id": "H9z16N3iYThE",
        "outputId": "ecf4f130-f002-48d6-e1e8-1f1606f3f396"
      },
      "execution_count": null,
      "outputs": [
        {
          "output_type": "execute_result",
          "data": {
            "text/plain": [
              "         Round                     Match Score      1     X      2  \\\n",
              "280   1. Round    Crystal Palace-Arsenal   0:2   4.58  3.57   1.84   \n",
              "279   1. Round     Tottenham-Southampton   4:1   1.36  5.20   8.69   \n",
              "278   1. Round      Newcastle-Nottingham   2:0   1.58  4.04   6.19   \n",
              "277   1. Round              Leeds-Wolves   2:1   2.43  3.34   3.00   \n",
              "276   1. Round          Fulham-Liverpool   2:2  10.45  6.10   1.28   \n",
              "..         ...                       ...   ...    ...   ...    ...   \n",
              "4    29. Round        Bournemouth-Fulham   2:1   2.56  3.26   2.89   \n",
              "3    29. Round             Arsenal-Leeds   4:1   1.26  6.33  10.91   \n",
              "2    29. Round      West Ham-Southampton   1:0   1.76  3.67   4.99   \n",
              "1    29. Round  Newcastle-Manchester Utd   2:0   2.32  3.48   3.06   \n",
              "0    29. Round         Everton-Tottenham   1:1   3.83  3.33   2.07   \n",
              "\n",
              "           Date            Home            Away  HomeWin_Prob  DrawWin_Prob  \\\n",
              "280  05.08.2022  Crystal Palace         Arsenal          0.22          0.28   \n",
              "279  06.08.2022       Tottenham     Southampton          0.74          0.19   \n",
              "278  06.08.2022       Newcastle      Nottingham          0.63          0.25   \n",
              "277  06.08.2022           Leeds          Wolves          0.41          0.30   \n",
              "276  06.08.2022          Fulham       Liverpool          0.10          0.16   \n",
              "..          ...             ...             ...           ...           ...   \n",
              "4        01.04.     Bournemouth          Fulham          0.39          0.31   \n",
              "3        01.04.         Arsenal           Leeds          0.79          0.16   \n",
              "2        02.04.        West Ham     Southampton          0.57          0.27   \n",
              "1        02.04.       Newcastle  Manchester Utd          0.43          0.29   \n",
              "0     Yesterday         Everton       Tottenham          0.26          0.30   \n",
              "\n",
              "     AwayWin_Prob HomeGoals AwayGoals  Result  \n",
              "280          0.54         0         2       2  \n",
              "279          0.12         4         1       1  \n",
              "278          0.16         2         0       1  \n",
              "277          0.33         2         1       1  \n",
              "276          0.78         2         2       0  \n",
              "..            ...       ...       ...     ...  \n",
              "4            0.35         2         1       1  \n",
              "3            0.09         4         1       1  \n",
              "2            0.20         1         0       1  \n",
              "1            0.33         2         0       1  \n",
              "0            0.48         1         1       0  \n",
              "\n",
              "[281 rows x 15 columns]"
            ],
            "text/html": [
              "\n",
              "  <div id=\"df-88dfc658-5f20-4280-a2d3-f35c1cd60f59\">\n",
              "    <div class=\"colab-df-container\">\n",
              "      <div>\n",
              "<style scoped>\n",
              "    .dataframe tbody tr th:only-of-type {\n",
              "        vertical-align: middle;\n",
              "    }\n",
              "\n",
              "    .dataframe tbody tr th {\n",
              "        vertical-align: top;\n",
              "    }\n",
              "\n",
              "    .dataframe thead th {\n",
              "        text-align: right;\n",
              "    }\n",
              "</style>\n",
              "<table border=\"1\" class=\"dataframe\">\n",
              "  <thead>\n",
              "    <tr style=\"text-align: right;\">\n",
              "      <th></th>\n",
              "      <th>Round</th>\n",
              "      <th>Match</th>\n",
              "      <th>Score</th>\n",
              "      <th>1</th>\n",
              "      <th>X</th>\n",
              "      <th>2</th>\n",
              "      <th>Date</th>\n",
              "      <th>Home</th>\n",
              "      <th>Away</th>\n",
              "      <th>HomeWin_Prob</th>\n",
              "      <th>DrawWin_Prob</th>\n",
              "      <th>AwayWin_Prob</th>\n",
              "      <th>HomeGoals</th>\n",
              "      <th>AwayGoals</th>\n",
              "      <th>Result</th>\n",
              "    </tr>\n",
              "  </thead>\n",
              "  <tbody>\n",
              "    <tr>\n",
              "      <th>280</th>\n",
              "      <td>1. Round</td>\n",
              "      <td>Crystal Palace-Arsenal</td>\n",
              "      <td>0:2</td>\n",
              "      <td>4.58</td>\n",
              "      <td>3.57</td>\n",
              "      <td>1.84</td>\n",
              "      <td>05.08.2022</td>\n",
              "      <td>Crystal Palace</td>\n",
              "      <td>Arsenal</td>\n",
              "      <td>0.22</td>\n",
              "      <td>0.28</td>\n",
              "      <td>0.54</td>\n",
              "      <td>0</td>\n",
              "      <td>2</td>\n",
              "      <td>2</td>\n",
              "    </tr>\n",
              "    <tr>\n",
              "      <th>279</th>\n",
              "      <td>1. Round</td>\n",
              "      <td>Tottenham-Southampton</td>\n",
              "      <td>4:1</td>\n",
              "      <td>1.36</td>\n",
              "      <td>5.20</td>\n",
              "      <td>8.69</td>\n",
              "      <td>06.08.2022</td>\n",
              "      <td>Tottenham</td>\n",
              "      <td>Southampton</td>\n",
              "      <td>0.74</td>\n",
              "      <td>0.19</td>\n",
              "      <td>0.12</td>\n",
              "      <td>4</td>\n",
              "      <td>1</td>\n",
              "      <td>1</td>\n",
              "    </tr>\n",
              "    <tr>\n",
              "      <th>278</th>\n",
              "      <td>1. Round</td>\n",
              "      <td>Newcastle-Nottingham</td>\n",
              "      <td>2:0</td>\n",
              "      <td>1.58</td>\n",
              "      <td>4.04</td>\n",
              "      <td>6.19</td>\n",
              "      <td>06.08.2022</td>\n",
              "      <td>Newcastle</td>\n",
              "      <td>Nottingham</td>\n",
              "      <td>0.63</td>\n",
              "      <td>0.25</td>\n",
              "      <td>0.16</td>\n",
              "      <td>2</td>\n",
              "      <td>0</td>\n",
              "      <td>1</td>\n",
              "    </tr>\n",
              "    <tr>\n",
              "      <th>277</th>\n",
              "      <td>1. Round</td>\n",
              "      <td>Leeds-Wolves</td>\n",
              "      <td>2:1</td>\n",
              "      <td>2.43</td>\n",
              "      <td>3.34</td>\n",
              "      <td>3.00</td>\n",
              "      <td>06.08.2022</td>\n",
              "      <td>Leeds</td>\n",
              "      <td>Wolves</td>\n",
              "      <td>0.41</td>\n",
              "      <td>0.30</td>\n",
              "      <td>0.33</td>\n",
              "      <td>2</td>\n",
              "      <td>1</td>\n",
              "      <td>1</td>\n",
              "    </tr>\n",
              "    <tr>\n",
              "      <th>276</th>\n",
              "      <td>1. Round</td>\n",
              "      <td>Fulham-Liverpool</td>\n",
              "      <td>2:2</td>\n",
              "      <td>10.45</td>\n",
              "      <td>6.10</td>\n",
              "      <td>1.28</td>\n",
              "      <td>06.08.2022</td>\n",
              "      <td>Fulham</td>\n",
              "      <td>Liverpool</td>\n",
              "      <td>0.10</td>\n",
              "      <td>0.16</td>\n",
              "      <td>0.78</td>\n",
              "      <td>2</td>\n",
              "      <td>2</td>\n",
              "      <td>0</td>\n",
              "    </tr>\n",
              "    <tr>\n",
              "      <th>...</th>\n",
              "      <td>...</td>\n",
              "      <td>...</td>\n",
              "      <td>...</td>\n",
              "      <td>...</td>\n",
              "      <td>...</td>\n",
              "      <td>...</td>\n",
              "      <td>...</td>\n",
              "      <td>...</td>\n",
              "      <td>...</td>\n",
              "      <td>...</td>\n",
              "      <td>...</td>\n",
              "      <td>...</td>\n",
              "      <td>...</td>\n",
              "      <td>...</td>\n",
              "      <td>...</td>\n",
              "    </tr>\n",
              "    <tr>\n",
              "      <th>4</th>\n",
              "      <td>29. Round</td>\n",
              "      <td>Bournemouth-Fulham</td>\n",
              "      <td>2:1</td>\n",
              "      <td>2.56</td>\n",
              "      <td>3.26</td>\n",
              "      <td>2.89</td>\n",
              "      <td>01.04.</td>\n",
              "      <td>Bournemouth</td>\n",
              "      <td>Fulham</td>\n",
              "      <td>0.39</td>\n",
              "      <td>0.31</td>\n",
              "      <td>0.35</td>\n",
              "      <td>2</td>\n",
              "      <td>1</td>\n",
              "      <td>1</td>\n",
              "    </tr>\n",
              "    <tr>\n",
              "      <th>3</th>\n",
              "      <td>29. Round</td>\n",
              "      <td>Arsenal-Leeds</td>\n",
              "      <td>4:1</td>\n",
              "      <td>1.26</td>\n",
              "      <td>6.33</td>\n",
              "      <td>10.91</td>\n",
              "      <td>01.04.</td>\n",
              "      <td>Arsenal</td>\n",
              "      <td>Leeds</td>\n",
              "      <td>0.79</td>\n",
              "      <td>0.16</td>\n",
              "      <td>0.09</td>\n",
              "      <td>4</td>\n",
              "      <td>1</td>\n",
              "      <td>1</td>\n",
              "    </tr>\n",
              "    <tr>\n",
              "      <th>2</th>\n",
              "      <td>29. Round</td>\n",
              "      <td>West Ham-Southampton</td>\n",
              "      <td>1:0</td>\n",
              "      <td>1.76</td>\n",
              "      <td>3.67</td>\n",
              "      <td>4.99</td>\n",
              "      <td>02.04.</td>\n",
              "      <td>West Ham</td>\n",
              "      <td>Southampton</td>\n",
              "      <td>0.57</td>\n",
              "      <td>0.27</td>\n",
              "      <td>0.20</td>\n",
              "      <td>1</td>\n",
              "      <td>0</td>\n",
              "      <td>1</td>\n",
              "    </tr>\n",
              "    <tr>\n",
              "      <th>1</th>\n",
              "      <td>29. Round</td>\n",
              "      <td>Newcastle-Manchester Utd</td>\n",
              "      <td>2:0</td>\n",
              "      <td>2.32</td>\n",
              "      <td>3.48</td>\n",
              "      <td>3.06</td>\n",
              "      <td>02.04.</td>\n",
              "      <td>Newcastle</td>\n",
              "      <td>Manchester Utd</td>\n",
              "      <td>0.43</td>\n",
              "      <td>0.29</td>\n",
              "      <td>0.33</td>\n",
              "      <td>2</td>\n",
              "      <td>0</td>\n",
              "      <td>1</td>\n",
              "    </tr>\n",
              "    <tr>\n",
              "      <th>0</th>\n",
              "      <td>29. Round</td>\n",
              "      <td>Everton-Tottenham</td>\n",
              "      <td>1:1</td>\n",
              "      <td>3.83</td>\n",
              "      <td>3.33</td>\n",
              "      <td>2.07</td>\n",
              "      <td>Yesterday</td>\n",
              "      <td>Everton</td>\n",
              "      <td>Tottenham</td>\n",
              "      <td>0.26</td>\n",
              "      <td>0.30</td>\n",
              "      <td>0.48</td>\n",
              "      <td>1</td>\n",
              "      <td>1</td>\n",
              "      <td>0</td>\n",
              "    </tr>\n",
              "  </tbody>\n",
              "</table>\n",
              "<p>281 rows × 15 columns</p>\n",
              "</div>\n",
              "      <button class=\"colab-df-convert\" onclick=\"convertToInteractive('df-88dfc658-5f20-4280-a2d3-f35c1cd60f59')\"\n",
              "              title=\"Convert this dataframe to an interactive table.\"\n",
              "              style=\"display:none;\">\n",
              "        \n",
              "  <svg xmlns=\"http://www.w3.org/2000/svg\" height=\"24px\"viewBox=\"0 0 24 24\"\n",
              "       width=\"24px\">\n",
              "    <path d=\"M0 0h24v24H0V0z\" fill=\"none\"/>\n",
              "    <path d=\"M18.56 5.44l.94 2.06.94-2.06 2.06-.94-2.06-.94-.94-2.06-.94 2.06-2.06.94zm-11 1L8.5 8.5l.94-2.06 2.06-.94-2.06-.94L8.5 2.5l-.94 2.06-2.06.94zm10 10l.94 2.06.94-2.06 2.06-.94-2.06-.94-.94-2.06-.94 2.06-2.06.94z\"/><path d=\"M17.41 7.96l-1.37-1.37c-.4-.4-.92-.59-1.43-.59-.52 0-1.04.2-1.43.59L10.3 9.45l-7.72 7.72c-.78.78-.78 2.05 0 2.83L4 21.41c.39.39.9.59 1.41.59.51 0 1.02-.2 1.41-.59l7.78-7.78 2.81-2.81c.8-.78.8-2.07 0-2.86zM5.41 20L4 18.59l7.72-7.72 1.47 1.35L5.41 20z\"/>\n",
              "  </svg>\n",
              "      </button>\n",
              "      \n",
              "  <style>\n",
              "    .colab-df-container {\n",
              "      display:flex;\n",
              "      flex-wrap:wrap;\n",
              "      gap: 12px;\n",
              "    }\n",
              "\n",
              "    .colab-df-convert {\n",
              "      background-color: #E8F0FE;\n",
              "      border: none;\n",
              "      border-radius: 50%;\n",
              "      cursor: pointer;\n",
              "      display: none;\n",
              "      fill: #1967D2;\n",
              "      height: 32px;\n",
              "      padding: 0 0 0 0;\n",
              "      width: 32px;\n",
              "    }\n",
              "\n",
              "    .colab-df-convert:hover {\n",
              "      background-color: #E2EBFA;\n",
              "      box-shadow: 0px 1px 2px rgba(60, 64, 67, 0.3), 0px 1px 3px 1px rgba(60, 64, 67, 0.15);\n",
              "      fill: #174EA6;\n",
              "    }\n",
              "\n",
              "    [theme=dark] .colab-df-convert {\n",
              "      background-color: #3B4455;\n",
              "      fill: #D2E3FC;\n",
              "    }\n",
              "\n",
              "    [theme=dark] .colab-df-convert:hover {\n",
              "      background-color: #434B5C;\n",
              "      box-shadow: 0px 1px 3px 1px rgba(0, 0, 0, 0.15);\n",
              "      filter: drop-shadow(0px 1px 2px rgba(0, 0, 0, 0.3));\n",
              "      fill: #FFFFFF;\n",
              "    }\n",
              "  </style>\n",
              "\n",
              "      <script>\n",
              "        const buttonEl =\n",
              "          document.querySelector('#df-88dfc658-5f20-4280-a2d3-f35c1cd60f59 button.colab-df-convert');\n",
              "        buttonEl.style.display =\n",
              "          google.colab.kernel.accessAllowed ? 'block' : 'none';\n",
              "\n",
              "        async function convertToInteractive(key) {\n",
              "          const element = document.querySelector('#df-88dfc658-5f20-4280-a2d3-f35c1cd60f59');\n",
              "          const dataTable =\n",
              "            await google.colab.kernel.invokeFunction('convertToInteractive',\n",
              "                                                     [key], {});\n",
              "          if (!dataTable) return;\n",
              "\n",
              "          const docLinkHtml = 'Like what you see? Visit the ' +\n",
              "            '<a target=\"_blank\" href=https://colab.research.google.com/notebooks/data_table.ipynb>data table notebook</a>'\n",
              "            + ' to learn more about interactive tables.';\n",
              "          element.innerHTML = '';\n",
              "          dataTable['output_type'] = 'display_data';\n",
              "          await google.colab.output.renderOutput(dataTable, element);\n",
              "          const docLink = document.createElement('div');\n",
              "          docLink.innerHTML = docLinkHtml;\n",
              "          element.appendChild(docLink);\n",
              "        }\n",
              "      </script>\n",
              "    </div>\n",
              "  </div>\n",
              "  "
            ]
          },
          "metadata": {},
          "execution_count": 34
        }
      ]
    },
    {
      "cell_type": "code",
      "source": [
        "df.drop(['Round','Score','Date','1','X','2','Match','HomeGoals','AwayGoals'],axis=1,inplace=True)\n"
      ],
      "metadata": {
        "id": "OD3yfsyIYZNx"
      },
      "execution_count": 34,
      "outputs": []
    },
    {
      "cell_type": "code",
      "source": [
        "df.isna().sum()\n"
      ],
      "metadata": {
        "colab": {
          "base_uri": "https://localhost:8080/"
        },
        "id": "SCsBLBkdYghR",
        "outputId": "74c5a4c9-4eb3-4387-a344-46b13b323105"
      },
      "execution_count": null,
      "outputs": [
        {
          "output_type": "execute_result",
          "data": {
            "text/plain": [
              "Home            0\n",
              "Away            0\n",
              "HomeWin_Prob    1\n",
              "DrawWin_Prob    1\n",
              "AwayWin_Prob    1\n",
              "Result          0\n",
              "dtype: int64"
            ]
          },
          "metadata": {},
          "execution_count": 12
        }
      ]
    },
    {
      "cell_type": "code",
      "source": [
        "df.dropna(inplace=True)\n"
      ],
      "metadata": {
        "id": "vCm72YuWfVTs"
      },
      "execution_count": 35,
      "outputs": []
    },
    {
      "cell_type": "code",
      "source": [
        "df.isna().sum()"
      ],
      "metadata": {
        "colab": {
          "base_uri": "https://localhost:8080/"
        },
        "id": "HPBwKhLQfuDa",
        "outputId": "6cb9067e-532a-45b7-8bee-73fccd630e15"
      },
      "execution_count": null,
      "outputs": [
        {
          "output_type": "execute_result",
          "data": {
            "text/plain": [
              "Home            0\n",
              "Away            0\n",
              "HomeWin_Prob    0\n",
              "DrawWin_Prob    0\n",
              "AwayWin_Prob    0\n",
              "Result          0\n",
              "dtype: int64"
            ]
          },
          "metadata": {},
          "execution_count": 14
        }
      ]
    },
    {
      "cell_type": "code",
      "source": [
        "hold_out = df[250::]\n",
        "hold_out.drop(['Result'],axis=1,inplace=True)\n",
        "hold_out = hold_out.reset_index(drop=True)\n",
        "df = df[0:250]"
      ],
      "metadata": {
        "id": "Lb1Hkp1XYtTS"
      },
      "execution_count": 36,
      "outputs": []
    },
    {
      "cell_type": "code",
      "source": [
        "model_recode = {'Southampton':0,\n",
        "              'Crystal Palace':1,\n",
        "              'Fulham':2,\n",
        "              'Liverpool':3,\n",
        "              'Manchester Utd':4,\n",
        "              'Newcastle':5,\n",
        "              'Aston Villa':6,\n",
        "              'Brentford':7,\n",
        "              'Tottenham':8,\n",
        "              'West Ham':9,\n",
        "              'Chelsea':10,\n",
        "              'Leicester':11,\n",
        "              'Manchester City':12,\n",
        "              'Arsenal':13,\n",
        "              'Bournemouth':14,\n",
        "              'Everton':15,\n",
        "              'Wolves':16,\n",
        "              'Nottingham':17,\n",
        "              'Leeds':18,\n",
        "              'Brighton':19}\n"
      ],
      "metadata": {
        "id": "gx3z3gWzZAVv"
      },
      "execution_count": 37,
      "outputs": []
    },
    {
      "cell_type": "code",
      "source": [
        "# iterate over columns\n",
        "for key, value in df['Home'].iteritems():\n",
        "    df['Home'] = df['Home'].apply(lambda x: model_recode.get(x,x))\n",
        "\n",
        "for key, value in df['Away'].iteritems():\n",
        "    df['Away'] = df['Away'].apply(lambda x: model_recode.get(x,x))\n",
        "\n",
        "for key, value in hold_out['Home'].iteritems():\n",
        "    hold_out['Home'] = hold_out['Home'].apply(lambda x: model_recode.get(x,x))\n",
        "\n",
        "for key, value in hold_out['Away'].iteritems():\n",
        "    hold_out['Away'] = hold_out['Away'].apply(lambda x: model_recode.get(x,x))\n",
        "\n",
        "X = df.drop('Result',axis=1)\n",
        "y = df['Result']"
      ],
      "metadata": {
        "id": "XqxnzKgxZJjD"
      },
      "execution_count": 38,
      "outputs": []
    },
    {
      "cell_type": "code",
      "source": [
        "X_train, X_test, y_train, y_test = train_test_split(X, y, test_size=0.2, random_state=42)\n"
      ],
      "metadata": {
        "id": "JCXG01hXZLXp"
      },
      "execution_count": null,
      "outputs": []
    },
    {
      "cell_type": "code",
      "source": [
        "def model_tuning_GS(model, parameter_dict):\n",
        "    \"\"\"Function to perform hyperparameter turning for the classification models using GridSearch.\"\"\"\n",
        "    # inspect the model params.\n",
        "    model.get_params()\n",
        "    # define the parameters using a dictionary that we want to test.\n",
        "    model_grid = parameter_dict\n",
        "    # initialise a GSCV object with the model as an argument. scoring is set to accuracy and CV set to 10.\n",
        "    Grid_model = GridSearchCV(estimator=model, param_grid=model_grid, cv=10, scoring=\"accuracy\")\n",
        "    # fit the model to data.\n",
        "    Grid_model.fit(X_train, y_train)\n",
        "    # extract the best estimator, accuracy score and print them.\n",
        "    print(\"GridSearchCV results:\", model.__class__.__name__)\n",
        "    # print best estimator\n",
        "    print(\"Best Estimator:\\n\", Grid_model.best_estimator_)\n",
        "    # printing the mean cross-validated score of the best_estimator:\n",
        "    print(\"\\n Best Score:\\n\", Grid_model.best_score_)\n",
        "    # printing the parameter setting that gave the best results on the hold out testing data.:\n",
        "    print(\"\\n Best Hyperparameters:\\n\", Grid_model.best_params_)"
      ],
      "metadata": {
        "id": "axUoTD07ZUiS"
      },
      "execution_count": 39,
      "outputs": []
    },
    {
      "cell_type": "code",
      "source": [
        "parameter_dict = {'n_estimators':[1,2,3,4,5,6,7,8,9,10,11,12,13,14,15],\n",
        "                  'max_depth': [5,9,10,20],\n",
        "                  'min_samples_leaf': [0.1,0.2,0.3,0.4,0.5],\n",
        "                  'criterion':['gini', 'entropy', 'log_loss']}\n",
        "\n",
        "model_tuning_GS(RandomForestClassifier(random_state=42), parameter_dict)"
      ],
      "metadata": {
        "colab": {
          "base_uri": "https://localhost:8080/"
        },
        "id": "qf1JQv-AZegk",
        "outputId": "65685ced-dde9-4e7e-a28b-1991682ea694"
      },
      "execution_count": null,
      "outputs": [
        {
          "output_type": "stream",
          "name": "stdout",
          "text": [
            "GridSearchCV results: RandomForestClassifier\n",
            "Best Estimator:\n",
            " RandomForestClassifier(max_depth=5, min_samples_leaf=0.1, n_estimators=10,\n",
            "                       random_state=42)\n",
            "\n",
            " Best Score:\n",
            " 0.5349999999999999\n",
            "\n",
            " Best Hyperparameters:\n",
            " {'criterion': 'gini', 'max_depth': 5, 'min_samples_leaf': 0.1, 'n_estimators': 10}\n"
          ]
        }
      ]
    },
    {
      "cell_type": "code",
      "source": [
        "clf = RandomForestClassifier(criterion='gini', max_depth=5, min_samples_leaf=0.1,\n",
        "                       n_estimators=10, random_state=42)\n",
        "\n",
        "clf.fit(X_train, y_train)"
      ],
      "metadata": {
        "colab": {
          "base_uri": "https://localhost:8080/",
          "height": 92
        },
        "id": "S7x7hq7mHfU3",
        "outputId": "301230fd-ee55-42d4-e694-c71051ca5bcf"
      },
      "execution_count": 40,
      "outputs": [
        {
          "output_type": "execute_result",
          "data": {
            "text/plain": [
              "RandomForestClassifier(max_depth=5, min_samples_leaf=0.1, n_estimators=10,\n",
              "                       random_state=42)"
            ],
            "text/html": [
              "<style>#sk-container-id-2 {color: black;background-color: white;}#sk-container-id-2 pre{padding: 0;}#sk-container-id-2 div.sk-toggleable {background-color: white;}#sk-container-id-2 label.sk-toggleable__label {cursor: pointer;display: block;width: 100%;margin-bottom: 0;padding: 0.3em;box-sizing: border-box;text-align: center;}#sk-container-id-2 label.sk-toggleable__label-arrow:before {content: \"▸\";float: left;margin-right: 0.25em;color: #696969;}#sk-container-id-2 label.sk-toggleable__label-arrow:hover:before {color: black;}#sk-container-id-2 div.sk-estimator:hover label.sk-toggleable__label-arrow:before {color: black;}#sk-container-id-2 div.sk-toggleable__content {max-height: 0;max-width: 0;overflow: hidden;text-align: left;background-color: #f0f8ff;}#sk-container-id-2 div.sk-toggleable__content pre {margin: 0.2em;color: black;border-radius: 0.25em;background-color: #f0f8ff;}#sk-container-id-2 input.sk-toggleable__control:checked~div.sk-toggleable__content {max-height: 200px;max-width: 100%;overflow: auto;}#sk-container-id-2 input.sk-toggleable__control:checked~label.sk-toggleable__label-arrow:before {content: \"▾\";}#sk-container-id-2 div.sk-estimator input.sk-toggleable__control:checked~label.sk-toggleable__label {background-color: #d4ebff;}#sk-container-id-2 div.sk-label input.sk-toggleable__control:checked~label.sk-toggleable__label {background-color: #d4ebff;}#sk-container-id-2 input.sk-hidden--visually {border: 0;clip: rect(1px 1px 1px 1px);clip: rect(1px, 1px, 1px, 1px);height: 1px;margin: -1px;overflow: hidden;padding: 0;position: absolute;width: 1px;}#sk-container-id-2 div.sk-estimator {font-family: monospace;background-color: #f0f8ff;border: 1px dotted black;border-radius: 0.25em;box-sizing: border-box;margin-bottom: 0.5em;}#sk-container-id-2 div.sk-estimator:hover {background-color: #d4ebff;}#sk-container-id-2 div.sk-parallel-item::after {content: \"\";width: 100%;border-bottom: 1px solid gray;flex-grow: 1;}#sk-container-id-2 div.sk-label:hover label.sk-toggleable__label {background-color: #d4ebff;}#sk-container-id-2 div.sk-serial::before {content: \"\";position: absolute;border-left: 1px solid gray;box-sizing: border-box;top: 0;bottom: 0;left: 50%;z-index: 0;}#sk-container-id-2 div.sk-serial {display: flex;flex-direction: column;align-items: center;background-color: white;padding-right: 0.2em;padding-left: 0.2em;position: relative;}#sk-container-id-2 div.sk-item {position: relative;z-index: 1;}#sk-container-id-2 div.sk-parallel {display: flex;align-items: stretch;justify-content: center;background-color: white;position: relative;}#sk-container-id-2 div.sk-item::before, #sk-container-id-2 div.sk-parallel-item::before {content: \"\";position: absolute;border-left: 1px solid gray;box-sizing: border-box;top: 0;bottom: 0;left: 50%;z-index: -1;}#sk-container-id-2 div.sk-parallel-item {display: flex;flex-direction: column;z-index: 1;position: relative;background-color: white;}#sk-container-id-2 div.sk-parallel-item:first-child::after {align-self: flex-end;width: 50%;}#sk-container-id-2 div.sk-parallel-item:last-child::after {align-self: flex-start;width: 50%;}#sk-container-id-2 div.sk-parallel-item:only-child::after {width: 0;}#sk-container-id-2 div.sk-dashed-wrapped {border: 1px dashed gray;margin: 0 0.4em 0.5em 0.4em;box-sizing: border-box;padding-bottom: 0.4em;background-color: white;}#sk-container-id-2 div.sk-label label {font-family: monospace;font-weight: bold;display: inline-block;line-height: 1.2em;}#sk-container-id-2 div.sk-label-container {text-align: center;}#sk-container-id-2 div.sk-container {/* jupyter's `normalize.less` sets `[hidden] { display: none; }` but bootstrap.min.css set `[hidden] { display: none !important; }` so we also need the `!important` here to be able to override the default hidden behavior on the sphinx rendered scikit-learn.org. See: https://github.com/scikit-learn/scikit-learn/issues/21755 */display: inline-block !important;position: relative;}#sk-container-id-2 div.sk-text-repr-fallback {display: none;}</style><div id=\"sk-container-id-2\" class=\"sk-top-container\"><div class=\"sk-text-repr-fallback\"><pre>RandomForestClassifier(max_depth=5, min_samples_leaf=0.1, n_estimators=10,\n",
              "                       random_state=42)</pre><b>In a Jupyter environment, please rerun this cell to show the HTML representation or trust the notebook. <br />On GitHub, the HTML representation is unable to render, please try loading this page with nbviewer.org.</b></div><div class=\"sk-container\" hidden><div class=\"sk-item\"><div class=\"sk-estimator sk-toggleable\"><input class=\"sk-toggleable__control sk-hidden--visually\" id=\"sk-estimator-id-2\" type=\"checkbox\" checked><label for=\"sk-estimator-id-2\" class=\"sk-toggleable__label sk-toggleable__label-arrow\">RandomForestClassifier</label><div class=\"sk-toggleable__content\"><pre>RandomForestClassifier(max_depth=5, min_samples_leaf=0.1, n_estimators=10,\n",
              "                       random_state=42)</pre></div></div></div></div></div>"
            ]
          },
          "metadata": {},
          "execution_count": 40
        }
      ]
    },
    {
      "cell_type": "code",
      "source": [
        "yhat = clf.predict(X_test)\n"
      ],
      "metadata": {
        "id": "xfnXHVzSH4tv"
      },
      "execution_count": 46,
      "outputs": []
    },
    {
      "cell_type": "code",
      "source": [
        "print(\"Accuracy:\", metrics.accuracy_score(y_train, clf.predict(X_train)).round(decimals=4))\n",
        "#print(\"Accuracy:\", metrics.accuracy_score(y_test, yhat).round(decimals=4))\n"
      ],
      "metadata": {
        "id": "FQjyfAD4H_f8",
        "colab": {
          "base_uri": "https://localhost:8080/"
        },
        "outputId": "09ad46ba-56fb-44f7-84ec-b523f47b29e6"
      },
      "execution_count": 42,
      "outputs": [
        {
          "output_type": "stream",
          "name": "stdout",
          "text": [
            "Accuracy: 0.6\n"
          ]
        }
      ]
    },
    {
      "cell_type": "code",
      "source": [
        "print(\"Accuracy:\", metrics.accuracy_score(y_test, yhat).round(decimals=4))"
      ],
      "metadata": {
        "id": "kwgQrFhJIX5E",
        "colab": {
          "base_uri": "https://localhost:8080/"
        },
        "outputId": "84e8e6da-2a46-4c96-97c3-9527be89cb3e"
      },
      "execution_count": 48,
      "outputs": [
        {
          "output_type": "stream",
          "name": "stdout",
          "text": [
            "Accuracy: 0.44\n"
          ]
        }
      ]
    },
    {
      "cell_type": "code",
      "source": [
        "# Make predictions on hold out set.\n",
        "predictions = clf.predict(hold_out)\n",
        "\n",
        "predictions = pd.DataFrame(predictions,columns=['Predicted_Result'])\n",
        "\n",
        "predictions = pd.concat([predictions,hold_out],axis=1)\n",
        "\n",
        "\n",
        "\n",
        "# reverse the team name mappings.\n",
        "\n",
        "inv_map = {v: k for k, v in model_recode.items()}\n",
        "\n",
        "# iterate over columns\n",
        "for key, value in predictions['Home'].iteritems():\n",
        "    predictions['Home'] = predictions['Home'].apply(lambda x: inv_map.get(x,x))\n",
        "\n",
        "for key, value in predictions['Away'].iteritems():\n",
        "    predictions['Away'] = predictions['Away'].apply(lambda x: inv_map.get(x,x))\n",
        "\n",
        "print(tabulate(predictions,headers='keys'))\n",
        "\n",
        "predictions.to_csv('pred.csv')"
      ],
      "metadata": {
        "colab": {
          "base_uri": "https://localhost:8080/"
        },
        "id": "ejNezJjIKAqI",
        "outputId": "1e95b1c5-7dc3-4638-85b2-46ee3ebe9b2b"
      },
      "execution_count": 51,
      "outputs": [
        {
          "output_type": "stream",
          "name": "stdout",
          "text": [
            "      Predicted_Result  Home             Away               HomeWin_Prob    DrawWin_Prob    AwayWin_Prob\n",
            "--  ------------------  ---------------  ---------------  --------------  --------------  --------------\n",
            " 0                   2  Brentford        Fulham                     0.49            0.28            0.27\n",
            " 1                   1  Tottenham        Nottingham                 0.69            0.22            0.13\n",
            " 2                   2  Leicester        Chelsea                    0.25            0.28            0.52\n",
            " 3                   2  Leeds            Brighton                   0.23            0.27            0.54\n",
            " 4                   2  Everton          Brentford                  0.37            0.33            0.34\n",
            " 5                   2  Crystal Palace   Manchester City            0.1             0.2             0.75\n",
            " 6                   2  Bournemouth      Liverpool                  0.14            0.2             0.71\n",
            " 7                   2  West Ham         Aston Villa                0.43            0.31            0.31\n",
            " 8                   1  Newcastle        Wolves                     0.61            0.26            0.17\n",
            " 9                   1  Manchester Utd   Southampton                0.79            0.16            0.09\n",
            "10                   2  Fulham           Arsenal                    0.13            0.21            0.7\n",
            "11                   1  Southampton      Brentford                  0.31            0.31            0.42\n",
            "12                   1  Brighton         Crystal Palace             0.73            0.2             0.11\n",
            "13                   2  Nottingham       Newcastle                  0.19            0.27            0.59\n",
            "14                   2  Wolves           Leeds                      0.43            0.31            0.31\n",
            "15                   2  Southampton      Tottenham                  0.22            0.28            0.55\n",
            "16                   1  Chelsea          Everton                    0.68            0.24            0.13\n",
            "17                   1  Brentford        Leicester                  0.54            0.26            0.25\n",
            "18                   1  Aston Villa      Bournemouth                0.58            0.26            0.2\n",
            "19                   1  Arsenal          Crystal Palace             0.79            0.17            0.08\n",
            "20                   1  Nottingham       Wolves                     0.3             0.32            0.42\n",
            "21                   1  Manchester City  Liverpool                  0.6             0.24            0.2\n",
            "22                   2  Crystal Palace   Leicester                  0.42            0.3             0.32\n",
            "23                   1  Chelsea          Aston Villa                0.62            0.25            0.17\n",
            "24                   1  Brighton         Brentford                  0.62            0.24            0.18\n",
            "25                   2  Bournemouth      Fulham                     0.39            0.31            0.35\n",
            "26                   1  Arsenal          Leeds                      0.79            0.16            0.09\n",
            "27                   1  West Ham         Southampton                0.57            0.27            0.2\n",
            "28                   2  Newcastle        Manchester Utd             0.43            0.29            0.33\n",
            "29                   2  Everton          Tottenham                  0.26            0.3             0.48\n"
          ]
        }
      ]
    }
  ]
}